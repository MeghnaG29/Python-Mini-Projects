{
 "cells": [
  {
   "cell_type": "markdown",
   "metadata": {},
   "source": [
    "__Importing required package__"
   ]
  },
  {
   "cell_type": "code",
   "execution_count": 1,
   "metadata": {},
   "outputs": [],
   "source": [
    "from pytube import YouTube"
   ]
  },
  {
   "cell_type": "markdown",
   "metadata": {},
   "source": [
    "__Location where the downloaded videos are to be saved__"
   ]
  },
  {
   "cell_type": "code",
   "execution_count": 2,
   "metadata": {},
   "outputs": [],
   "source": [
    "location='Downloads'"
   ]
  },
  {
   "cell_type": "markdown",
   "metadata": {},
   "source": [
    "__Location of file where links of videos to be downloaded are present__"
   ]
  },
  {
   "cell_type": "code",
   "execution_count": 3,
   "metadata": {},
   "outputs": [],
   "source": [
    "f=open('Links.txt','r')"
   ]
  },
  {
   "cell_type": "code",
   "execution_count": 4,
   "metadata": {},
   "outputs": [],
   "source": [
    "#Reading links line by line\n",
    "List_of_links=[i.rstrip('\\n') for i in f.readlines()]"
   ]
  },
  {
   "cell_type": "code",
   "execution_count": 5,
   "metadata": {},
   "outputs": [
    {
     "name": "stdout",
     "output_type": "stream",
     "text": [
      "['https://www.youtube.com/watch?v=A8Q_m7OtTOI']\n"
     ]
    }
   ],
   "source": [
    "print(List_of_links)"
   ]
  },
  {
   "cell_type": "code",
   "execution_count": 7,
   "metadata": {},
   "outputs": [
    {
     "name": "stdout",
     "output_type": "stream",
     "text": [
      "Downloading... : What does a German Shepherd do when He sees Me Sleeping\n",
      "Author :  Rocky\n",
      "Views :  4.7544684\n",
      "Download successful\n",
      "\n",
      "\n",
      "\n"
     ]
    }
   ],
   "source": [
    "#Main logic\n",
    "\n",
    "for link in List_of_links:\n",
    "    #You_obj is our YouTube object\n",
    "    You_obj=YouTube(link)\n",
    "    \n",
    "    #To query only streams in the MP4 format:    \n",
    "    mp4files = You_obj.streams.filter(file_extension='mp4',progressive=True).order_by('resolution').desc()\n",
    "    \n",
    "    \n",
    "    #Downloading the stream\n",
    "    try: \n",
    "        print(\"Downloading... :\",You_obj.title)\n",
    "        print('Author : ',You_obj.author)\n",
    "        print('Views : ',You_obj.rating)\n",
    "        mp4files.first().download(location)\n",
    "        print('Download successful')\n",
    "        print('\\n\\n')\n",
    "        \n",
    "    except Exception as e: \n",
    "        print(\"Download failed due to \",e)"
   ]
  },
  {
   "cell_type": "code",
   "execution_count": null,
   "metadata": {},
   "outputs": [],
   "source": []
  },
  {
   "cell_type": "code",
   "execution_count": null,
   "metadata": {},
   "outputs": [],
   "source": []
  },
  {
   "cell_type": "code",
   "execution_count": null,
   "metadata": {},
   "outputs": [],
   "source": []
  }
 ],
 "metadata": {
  "kernelspec": {
   "display_name": "Python 3",
   "language": "python",
   "name": "python3"
  },
  "language_info": {
   "codemirror_mode": {
    "name": "ipython",
    "version": 3
   },
   "file_extension": ".py",
   "mimetype": "text/x-python",
   "name": "python",
   "nbconvert_exporter": "python",
   "pygments_lexer": "ipython3",
   "version": "3.8.2"
  }
 },
 "nbformat": 4,
 "nbformat_minor": 4
}
